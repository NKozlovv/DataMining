{
 "cells": [
  {
   "cell_type": "markdown",
   "metadata": {},
   "source": [
    "# Association rule mining"
   ]
  },
  {
   "cell_type": "code",
   "execution_count": 1,
   "metadata": {},
   "outputs": [],
   "source": [
    "import numpy as np\n",
    "import pandas as pd\n",
    "from mlxtend.frequent_patterns import apriori, association_rules"
   ]
  },
  {
   "cell_type": "markdown",
   "metadata": {},
   "source": [
    "### Mlxtend (machine learning extensions) \n",
    "\n",
    "Python library of useful tools for the day-to-day data science tasks.\n",
    "\n",
    "http://rasbt.github.io/mlxtend/api_subpackages/mlxtend.frequent_patterns/"
   ]
  },
  {
   "cell_type": "markdown",
   "metadata": {},
   "source": [
    "### Load data"
   ]
  },
  {
   "cell_type": "code",
   "execution_count": 2,
   "metadata": {},
   "outputs": [],
   "source": [
    "data = pd.read_csv(\"supermarket_short.csv\")"
   ]
  },
  {
   "cell_type": "markdown",
   "metadata": {},
   "source": [
    "### Find frequent itemsets and rules"
   ]
  },
  {
   "cell_type": "code",
   "execution_count": 3,
   "metadata": {},
   "outputs": [],
   "source": [
    "frequent_itemsets = apriori(data, min_support=0.1, use_colnames=True)\n",
    "\n",
    "rules = association_rules(frequent_itemsets, metric=\"conviction\", min_threshold=0.4)"
   ]
  },
  {
   "cell_type": "markdown",
   "metadata": {},
   "source": [
    "### Add antecedent lenght column"
   ]
  },
  {
   "cell_type": "code",
   "execution_count": 4,
   "metadata": {},
   "outputs": [],
   "source": [
    "rules['antecedent_len'] = rules['antecedents'].apply(lambda x: len(x))"
   ]
  },
  {
   "cell_type": "markdown",
   "metadata": {},
   "source": [
    "### Filter rules"
   ]
  },
  {
   "cell_type": "code",
   "execution_count": 14,
   "metadata": {},
   "outputs": [
    {
     "data": {
      "text/html": [
       "<div>\n",
       "<style scoped>\n",
       "    .dataframe tbody tr th:only-of-type {\n",
       "        vertical-align: middle;\n",
       "    }\n",
       "\n",
       "    .dataframe tbody tr th {\n",
       "        vertical-align: top;\n",
       "    }\n",
       "\n",
       "    .dataframe thead th {\n",
       "        text-align: right;\n",
       "    }\n",
       "</style>\n",
       "<table border=\"1\" class=\"dataframe\">\n",
       "  <thead>\n",
       "    <tr style=\"text-align: right;\">\n",
       "      <th></th>\n",
       "      <th>antecedents</th>\n",
       "      <th>consequents</th>\n",
       "      <th>antecedent support</th>\n",
       "      <th>consequent support</th>\n",
       "      <th>support</th>\n",
       "      <th>confidence</th>\n",
       "      <th>lift</th>\n",
       "      <th>leverage</th>\n",
       "      <th>conviction</th>\n",
       "      <th>antecedent_len</th>\n",
       "    </tr>\n",
       "  </thead>\n",
       "  <tbody>\n",
       "    <tr>\n",
       "      <th>12722</th>\n",
       "      <td>(fruit, beef)</td>\n",
       "      <td>(vegetables)</td>\n",
       "      <td>0.256322</td>\n",
       "      <td>0.639939</td>\n",
       "      <td>0.213097</td>\n",
       "      <td>0.831366</td>\n",
       "      <td>1.299132</td>\n",
       "      <td>0.049067</td>\n",
       "      <td>2.135159</td>\n",
       "      <td>2</td>\n",
       "    </tr>\n",
       "    <tr>\n",
       "      <th>12715</th>\n",
       "      <td>(vegetables, dairy foods)</td>\n",
       "      <td>(fruit)</td>\n",
       "      <td>0.254160</td>\n",
       "      <td>0.640156</td>\n",
       "      <td>0.204668</td>\n",
       "      <td>0.805272</td>\n",
       "      <td>1.257932</td>\n",
       "      <td>0.041966</td>\n",
       "      <td>1.847935</td>\n",
       "      <td>2</td>\n",
       "    </tr>\n",
       "    <tr>\n",
       "      <th>1808</th>\n",
       "      <td>(fruit, canned vegetables)</td>\n",
       "      <td>(bread and cake)</td>\n",
       "      <td>0.243354</td>\n",
       "      <td>0.719689</td>\n",
       "      <td>0.205317</td>\n",
       "      <td>0.843694</td>\n",
       "      <td>1.172305</td>\n",
       "      <td>0.030177</td>\n",
       "      <td>1.793355</td>\n",
       "      <td>2</td>\n",
       "    </tr>\n",
       "  </tbody>\n",
       "</table>\n",
       "</div>"
      ],
      "text/plain": [
       "                      antecedents       consequents  antecedent support  \\\n",
       "12722               (fruit, beef)      (vegetables)            0.256322   \n",
       "12715   (vegetables, dairy foods)           (fruit)            0.254160   \n",
       "1808   (fruit, canned vegetables)  (bread and cake)            0.243354   \n",
       "\n",
       "       consequent support   support  confidence      lift  leverage  \\\n",
       "12722            0.639939  0.213097    0.831366  1.299132  0.049067   \n",
       "12715            0.640156  0.204668    0.805272  1.257932  0.041966   \n",
       "1808             0.719689  0.205317    0.843694  1.172305  0.030177   \n",
       "\n",
       "       conviction  antecedent_len  \n",
       "12722    2.135159               2  \n",
       "12715    1.847935               2  \n",
       "1808     1.793355               2  "
      ]
     },
     "execution_count": 14,
     "metadata": {},
     "output_type": "execute_result"
    }
   ],
   "source": [
    "rules[ (rules['antecedent_len'] == 2) &\n",
    "       (rules['conviction'] > 1.79) &\n",
    "      (rules['support'] < 0.22) & (rules['support'] > 0.2) ].sort_values(by=['conviction'],ascending=False)"
   ]
  },
  {
   "cell_type": "code",
   "execution_count": null,
   "metadata": {},
   "outputs": [],
   "source": []
  }
 ],
 "metadata": {
  "kernelspec": {
   "display_name": "Python 3",
   "language": "python",
   "name": "python3"
  },
  "language_info": {
   "codemirror_mode": {
    "name": "ipython",
    "version": 3
   },
   "file_extension": ".py",
   "mimetype": "text/x-python",
   "name": "python",
   "nbconvert_exporter": "python",
   "pygments_lexer": "ipython3",
   "version": "3.7.3"
  }
 },
 "nbformat": 4,
 "nbformat_minor": 2
}
